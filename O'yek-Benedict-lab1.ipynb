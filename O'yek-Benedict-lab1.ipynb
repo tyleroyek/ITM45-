{
 "cells": [
  {
   "cell_type": "markdown",
   "metadata": {},
   "source": [
    "183544\n",
    "O'yek\n",
    "2 BS ITE"
   ]
  },
  {
   "cell_type": "code",
   "execution_count": 12,
   "metadata": {},
   "outputs": [
    {
     "name": "stdout",
     "output_type": "stream",
     "text": [
      "Enter the amount in US Dollars: 1\n",
      "1 US dollar(s) = 50 Philippine Pesos\n"
     ]
    }
   ],
   "source": [
    "#Prob1\n",
    "def dollars_to_pesos(usd):\n",
    "    return usd*50\n",
    "\n",
    "usd = int(input(\"Enter the amount in US Dollars: \"))\n",
    "print(usd,\"US dollar(s) =\", dollars_to_pesos(usd),\"Philippine Pesos\")"
   ]
  },
  {
   "cell_type": "code",
   "execution_count": 13,
   "metadata": {},
   "outputs": [
    {
     "name": "stdout",
     "output_type": "stream",
     "text": [
      "Enter a number: 1\n",
      "Enter another number: 1\n",
      "2\n",
      "0\n",
      "1\n",
      "1.0\n",
      "0\n"
     ]
    }
   ],
   "source": [
    "#Prob2\n",
    "a = input (\"Enter a number: \")\n",
    "b = input (\"Enter another number: \")\n",
    "\n",
    "print(int(a) + int(b)) \n",
    "print(int(a) - int(b)) \n",
    "print(int(a) * int(b)) \n",
    "print(int(a) / int(b)) \n",
    "print(int(a) % int(b))"
   ]
  },
  {
   "cell_type": "code",
   "execution_count": 22,
   "metadata": {},
   "outputs": [
    {
     "name": "stdout",
     "output_type": "stream",
     "text": [
      "What's your weight in kg? 70\n",
      "What's your height in cm? 170\n",
      "BMI: 24.221453287197235\n"
     ]
    }
   ],
   "source": [
    "#Prob3\n",
    "def convert_cm_to_m(a):\n",
    "    return a/100\n",
    "\n",
    "def compute_bmi(a,b):\n",
    "    return a/b**2\n",
    "\n",
    "x = int(input('What\\'s your weight in kg? '))\n",
    "y = int(input('What\\'s your height in cm? '))\n",
    "z = convert_cm_to_m(y)\n",
    "print(\"BMI:\", compute_bmi(x,z))"
   ]
  },
  {
   "cell_type": "code",
   "execution_count": null,
   "metadata": {},
   "outputs": [],
   "source": []
  }
 ],
 "metadata": {
  "kernelspec": {
   "display_name": "Python 3",
   "language": "python",
   "name": "python3"
  },
  "language_info": {
   "codemirror_mode": {
    "name": "ipython",
    "version": 3
   },
   "file_extension": ".py",
   "mimetype": "text/x-python",
   "name": "python",
   "nbconvert_exporter": "python",
   "pygments_lexer": "ipython3",
   "version": "3.8.3"
  }
 },
 "nbformat": 4,
 "nbformat_minor": 4
}
