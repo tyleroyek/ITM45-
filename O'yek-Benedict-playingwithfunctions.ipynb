{
 "cells": [
  {
   "cell_type": "markdown",
   "metadata": {},
   "source": [
    "183544\n",
    "O'yek\n",
    "2 BS ITE"
   ]
  },
  {
   "cell_type": "markdown",
   "metadata": {},
   "source": [
    "1\n",
    "\n",
    "1 point\n",
    "\n",
    "Write a function that takes the circumference of a circle as a parameter and returns the area of that circle.\n",
    "\n",
    "Note: Assume the value of pi is 3.1416"
   ]
  },
  {
   "cell_type": "code",
   "execution_count": 1,
   "metadata": {},
   "outputs": [
    {
     "name": "stdout",
     "output_type": "stream",
     "text": [
      "Enter circumference: 100\n",
      "The area of the circle is 795.7728545963839\n"
     ]
    }
   ],
   "source": [
    "def get_radius(a):\n",
    "    return (a/(2*3.1416))\n",
    "\n",
    "def get_area(x):\n",
    "    return 3.1416*x**2\n",
    "\n",
    "x = int(input(\"Enter circumference: \"))\n",
    "r = get_radius(x)\n",
    "print(\"The area of the circle is \" + str(get_area(r)))"
   ]
  },
  {
   "cell_type": "markdown",
   "metadata": {},
   "source": [
    "2\n",
    "\n",
    "2 points\n",
    "\n",
    "Write a function that takes a 5-character string as a parameter and returns the string in reverse order.\n",
    "\n",
    "e.g. reverseString(\"Hello\") -> \"olleH\""
   ]
  },
  {
   "cell_type": "code",
   "execution_count": 2,
   "metadata": {},
   "outputs": [
    {
     "name": "stdout",
     "output_type": "stream",
     "text": [
      "Enter any word: Hello\n",
      "olleH\n"
     ]
    }
   ],
   "source": [
    "def reverse_string(a):\n",
    "    return a[::-1]\n",
    "\n",
    "x = input(\"Enter any word: \")\n",
    "print(reverse_string(x))"
   ]
  },
  {
   "cell_type": "markdown",
   "metadata": {},
   "source": [
    "3\n",
    "\n",
    "2 points\n",
    "\n",
    "Write a function that takes a positive integer as input and returns the sum of all positive integers smaller than and including the number itself.\n",
    "\n",
    "e.g. backAddition(5) -> 1 + 2 + 3 + 4 + 5 -> 15"
   ]
  },
  {
   "cell_type": "code",
   "execution_count": 3,
   "metadata": {},
   "outputs": [
    {
     "name": "stdout",
     "output_type": "stream",
     "text": [
      "Enter integer: 10\n"
     ]
    },
    {
     "data": {
      "text/plain": [
       "55"
      ]
     },
     "execution_count": 3,
     "metadata": {},
     "output_type": "execute_result"
    }
   ],
   "source": [
    "def back_addition(a, b):\n",
    "    for i in range(a):\n",
    "        b += a - i\n",
    "    return b\n",
    "\n",
    "x = int(input(\"Enter integer: \"))\n",
    "y = 0\n",
    "\n",
    "back_addition(x, y)"
   ]
  },
  {
   "cell_type": "markdown",
   "metadata": {},
   "source": [
    "4\n",
    "\n",
    "5 points (all or nothing)\n",
    "\n",
    "The sum of the squares of the first ten natural numbers is, 12 + 22 + ... + 102 = 385\n",
    "The square of the sum of the first ten natural numbers is, (1 + 2 + ... + 10)2 = 552 = 3025\n",
    "Hence the difference between the sum of the squares of the first ten natural numbers and the square of the sum is 3025 − 385 = 2640.\n",
    "Find the difference between the sum of the squares of the first one hundred natural numbers and the square of the sum.\n",
    "Show code that generates the answer."
   ]
  },
  {
   "cell_type": "code",
   "execution_count": 4,
   "metadata": {},
   "outputs": [
    {
     "name": "stdout",
     "output_type": "stream",
     "text": [
      "25164150.0\n"
     ]
    }
   ],
   "source": [
    "def diff(x):\n",
    "    sum_1 = x * (x+1) / 2;\n",
    "    sum_2 = x * (x+1) * (2*x + 1) / 6;\n",
    "    return sum_1 * sum_1 - sum_2;\n",
    "\n",
    "print(diff(100))"
   ]
  },
  {
   "cell_type": "markdown",
   "metadata": {},
   "source": [
    "5\n",
    "\n",
    "5 points\n",
    "\n",
    "Write a function that allows a self-service Point of Sale system to give you the exact change when you pay in cash.\n",
    "\n",
    "The function should accept the number of cents entered by the caller of the function. It then should display the denominations of the coins that should be given to the buyer. The change should use as few coins as possible. Assume that the Point of Sale system is loaded with 1 cent, 5 cents, 10 cents, 25 cents and 1 peso coins.\n",
    "\n",
    "Write main program code that accepts the number of cents manually through user input and calls the function written above.\n",
    "\n",
    "Input: The program accepts one positive integer, cents, corresponding to the total change to be given by the Point of Sale system.\n",
    "\n",
    "Output: The number of 1 peso, 25 cents, 10 cents, 5 cents and 1 cent coins respectively. There should be one output per line."
   ]
  },
  {
   "cell_type": "code",
   "execution_count": 6,
   "metadata": {},
   "outputs": [
    {
     "name": "stdout",
     "output_type": "stream",
     "text": [
      "Enter total cents: 78\n",
      "0\n",
      "3\n",
      "0\n",
      "0\n",
      "3\n"
     ]
    }
   ],
   "source": [
    "def get_change(x):\n",
    "    a = 0\n",
    "    b = 0\n",
    "    c = 0\n",
    "    d = 0\n",
    "    e = 0\n",
    "    while x > 0:\n",
    "        if x >= 100:\n",
    "            x -= 100\n",
    "            a += 1\n",
    "        elif x >= 25:\n",
    "            x -= 25\n",
    "            b += 1\n",
    "        elif x >= 10:\n",
    "            x -= 10\n",
    "            c += 1\n",
    "        elif x >= 5:\n",
    "            x -= 5\n",
    "            d += 1\n",
    "        elif x >= 1:\n",
    "            x -= 1\n",
    "            e += 1\n",
    "        else: \n",
    "            break\n",
    "    return a,b,c,d,e\n",
    "            \n",
    "x = int(input(\"Enter total cents: \"))\n",
    "\n",
    "for i in get_change(x):\n",
    "    print(i)"
   ]
  }
 ],
 "metadata": {
  "kernelspec": {
   "display_name": "Python 3",
   "language": "python",
   "name": "python3"
  },
  "language_info": {
   "codemirror_mode": {
    "name": "ipython",
    "version": 3
   },
   "file_extension": ".py",
   "mimetype": "text/x-python",
   "name": "python",
   "nbconvert_exporter": "python",
   "pygments_lexer": "ipython3",
   "version": "3.8.3"
  }
 },
 "nbformat": 4,
 "nbformat_minor": 4
}
